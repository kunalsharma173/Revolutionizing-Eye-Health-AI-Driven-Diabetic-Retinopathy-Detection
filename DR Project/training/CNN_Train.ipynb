{
 "cells": [
  {
   "cell_type": "code",
   "execution_count": null,
   "metadata": {
    "colab": {
     "base_uri": "https://localhost:8080/"
    },
    "id": "BeVZR4Kju2q_",
    "outputId": "f4740621-f619-4023-923e-a9c0621b7d84"
   },
   "outputs": [
    {
     "ename": "NameError",
     "evalue": "name 'build_model' is not defined",
     "output_type": "error",
     "traceback": [
      "\u001b[1;31m---------------------------------------------------------------------------\u001b[0m",
      "\u001b[1;31mNameError\u001b[0m                                 Traceback (most recent call last)",
      "File \u001b[1;32m~\\AppData\\Local\\Temp\\ipykernel_10304\\4291075610.py:8\u001b[0m\n\u001b[0;32m      5\u001b[0m IMG_SHAPE \u001b[38;5;241m=\u001b[39m (\u001b[38;5;241m256\u001b[39m, \u001b[38;5;241m256\u001b[39m, \u001b[38;5;241m3\u001b[39m)  \u001b[38;5;66;03m# Input shape (height, width, channels)\u001b[39;00m\n\u001b[0;32m      7\u001b[0m \u001b[38;5;66;03m# Build and summarize the model\u001b[39;00m\n\u001b[1;32m----> 8\u001b[0m model \u001b[38;5;241m=\u001b[39m \u001b[43mbuild_model\u001b[49m(IMG_SHAPE, nb_classes)\n\u001b[0;32m      9\u001b[0m model\u001b[38;5;241m.\u001b[39msummary()\n",
      "\u001b[1;31mNameError\u001b[0m: name 'build_model' is not defined"
     ]
    },
    {
     "ename": "NameError",
     "evalue": "name 'build_model' is not defined",
     "output_type": "error",
     "traceback": [
      "\u001b[1;31m---------------------------------------------------------------------------\u001b[0m",
      "\u001b[1;31mNameError\u001b[0m                                 Traceback (most recent call last)",
      "Cell \u001b[1;32mIn[2], line 16\u001b[0m\n\u001b[0;32m     14\u001b[0m \u001b[38;5;66;03m# Define the path and import your CNN model\u001b[39;00m\n\u001b[0;32m     15\u001b[0m os\u001b[38;5;241m.\u001b[39mchdir(\u001b[38;5;124mr\u001b[39m\u001b[38;5;124m\"\u001b[39m\u001b[38;5;124mC:\u001b[39m\u001b[38;5;124m\\\u001b[39m\u001b[38;5;124mUsers\u001b[39m\u001b[38;5;124m\\\u001b[39m\u001b[38;5;124mjanan\u001b[39m\u001b[38;5;124m\\\u001b[39m\u001b[38;5;124mOneDrive\u001b[39m\u001b[38;5;124m\\\u001b[39m\u001b[38;5;124mDesktop\u001b[39m\u001b[38;5;124m\\\u001b[39m\u001b[38;5;124mAI\u001b[39m\u001b[38;5;124m\\\u001b[39m\u001b[38;5;124mAI Project\u001b[39m\u001b[38;5;124m\\\u001b[39m\u001b[38;5;124mFinal Project\u001b[39m\u001b[38;5;124m\\\u001b[39m\u001b[38;5;124mdiabetic-retinopathy-detection\u001b[39m\u001b[38;5;124m\\\u001b[39m\u001b[38;5;124mmodels_build\u001b[39m\u001b[38;5;124m\"\u001b[39m)\n\u001b[1;32m---> 16\u001b[0m \u001b[43mget_ipython\u001b[49m\u001b[43m(\u001b[49m\u001b[43m)\u001b[49m\u001b[38;5;241;43m.\u001b[39;49m\u001b[43mrun_line_magic\u001b[49m\u001b[43m(\u001b[49m\u001b[38;5;124;43m'\u001b[39;49m\u001b[38;5;124;43mrun\u001b[39;49m\u001b[38;5;124;43m'\u001b[39;49m\u001b[43m,\u001b[49m\u001b[43m \u001b[49m\u001b[38;5;124;43m'\u001b[39;49m\u001b[38;5;124;43mcnn.ipynb\u001b[39;49m\u001b[38;5;124;43m'\u001b[39;49m\u001b[43m)\u001b[49m\n",
      "File \u001b[1;32m~\\AppData\\Roaming\\Python\\Python312\\site-packages\\IPython\\core\\interactiveshell.py:2480\u001b[0m, in \u001b[0;36mInteractiveShell.run_line_magic\u001b[1;34m(self, magic_name, line, _stack_depth)\u001b[0m\n\u001b[0;32m   2478\u001b[0m     kwargs[\u001b[38;5;124m'\u001b[39m\u001b[38;5;124mlocal_ns\u001b[39m\u001b[38;5;124m'\u001b[39m] \u001b[38;5;241m=\u001b[39m \u001b[38;5;28mself\u001b[39m\u001b[38;5;241m.\u001b[39mget_local_scope(stack_depth)\n\u001b[0;32m   2479\u001b[0m \u001b[38;5;28;01mwith\u001b[39;00m \u001b[38;5;28mself\u001b[39m\u001b[38;5;241m.\u001b[39mbuiltin_trap:\n\u001b[1;32m-> 2480\u001b[0m     result \u001b[38;5;241m=\u001b[39m \u001b[43mfn\u001b[49m\u001b[43m(\u001b[49m\u001b[38;5;241;43m*\u001b[39;49m\u001b[43margs\u001b[49m\u001b[43m,\u001b[49m\u001b[43m \u001b[49m\u001b[38;5;241;43m*\u001b[39;49m\u001b[38;5;241;43m*\u001b[39;49m\u001b[43mkwargs\u001b[49m\u001b[43m)\u001b[49m\n\u001b[0;32m   2482\u001b[0m \u001b[38;5;66;03m# The code below prevents the output from being displayed\u001b[39;00m\n\u001b[0;32m   2483\u001b[0m \u001b[38;5;66;03m# when using magics with decorator @output_can_be_silenced\u001b[39;00m\n\u001b[0;32m   2484\u001b[0m \u001b[38;5;66;03m# when the last Python token in the expression is a ';'.\u001b[39;00m\n\u001b[0;32m   2485\u001b[0m \u001b[38;5;28;01mif\u001b[39;00m \u001b[38;5;28mgetattr\u001b[39m(fn, magic\u001b[38;5;241m.\u001b[39mMAGIC_OUTPUT_CAN_BE_SILENCED, \u001b[38;5;28;01mFalse\u001b[39;00m):\n",
      "File \u001b[1;32m~\\AppData\\Roaming\\Python\\Python312\\site-packages\\IPython\\core\\magics\\execution.py:741\u001b[0m, in \u001b[0;36mExecutionMagics.run\u001b[1;34m(self, parameter_s, runner, file_finder)\u001b[0m\n\u001b[0;32m    739\u001b[0m     \u001b[38;5;28;01mwith\u001b[39;00m preserve_keys(\u001b[38;5;28mself\u001b[39m\u001b[38;5;241m.\u001b[39mshell\u001b[38;5;241m.\u001b[39muser_ns, \u001b[38;5;124m'\u001b[39m\u001b[38;5;124m__file__\u001b[39m\u001b[38;5;124m'\u001b[39m):\n\u001b[0;32m    740\u001b[0m         \u001b[38;5;28mself\u001b[39m\u001b[38;5;241m.\u001b[39mshell\u001b[38;5;241m.\u001b[39muser_ns[\u001b[38;5;124m'\u001b[39m\u001b[38;5;124m__file__\u001b[39m\u001b[38;5;124m'\u001b[39m] \u001b[38;5;241m=\u001b[39m filename\n\u001b[1;32m--> 741\u001b[0m         \u001b[38;5;28;43mself\u001b[39;49m\u001b[38;5;241;43m.\u001b[39;49m\u001b[43mshell\u001b[49m\u001b[38;5;241;43m.\u001b[39;49m\u001b[43msafe_execfile_ipy\u001b[49m\u001b[43m(\u001b[49m\u001b[43mfilename\u001b[49m\u001b[43m,\u001b[49m\u001b[43m \u001b[49m\u001b[43mraise_exceptions\u001b[49m\u001b[38;5;241;43m=\u001b[39;49m\u001b[38;5;28;43;01mTrue\u001b[39;49;00m\u001b[43m)\u001b[49m\n\u001b[0;32m    742\u001b[0m     \u001b[38;5;28;01mreturn\u001b[39;00m\n\u001b[0;32m    744\u001b[0m \u001b[38;5;66;03m# Control the response to exit() calls made by the script being run\u001b[39;00m\n",
      "File \u001b[1;32m~\\AppData\\Roaming\\Python\\Python312\\site-packages\\IPython\\core\\interactiveshell.py:3005\u001b[0m, in \u001b[0;36mInteractiveShell.safe_execfile_ipy\u001b[1;34m(self, fname, shell_futures, raise_exceptions)\u001b[0m\n\u001b[0;32m   3003\u001b[0m result \u001b[38;5;241m=\u001b[39m \u001b[38;5;28mself\u001b[39m\u001b[38;5;241m.\u001b[39mrun_cell(cell, silent\u001b[38;5;241m=\u001b[39m\u001b[38;5;28;01mTrue\u001b[39;00m, shell_futures\u001b[38;5;241m=\u001b[39mshell_futures)\n\u001b[0;32m   3004\u001b[0m \u001b[38;5;28;01mif\u001b[39;00m raise_exceptions:\n\u001b[1;32m-> 3005\u001b[0m     \u001b[43mresult\u001b[49m\u001b[38;5;241;43m.\u001b[39;49m\u001b[43mraise_error\u001b[49m\u001b[43m(\u001b[49m\u001b[43m)\u001b[49m\n\u001b[0;32m   3006\u001b[0m \u001b[38;5;28;01melif\u001b[39;00m \u001b[38;5;129;01mnot\u001b[39;00m result\u001b[38;5;241m.\u001b[39msuccess:\n\u001b[0;32m   3007\u001b[0m     \u001b[38;5;28;01mbreak\u001b[39;00m\n",
      "File \u001b[1;32m~\\AppData\\Roaming\\Python\\Python312\\site-packages\\IPython\\core\\interactiveshell.py:308\u001b[0m, in \u001b[0;36mExecutionResult.raise_error\u001b[1;34m(self)\u001b[0m\n\u001b[0;32m    306\u001b[0m     \u001b[38;5;28;01mraise\u001b[39;00m \u001b[38;5;28mself\u001b[39m\u001b[38;5;241m.\u001b[39merror_before_exec\n\u001b[0;32m    307\u001b[0m \u001b[38;5;28;01mif\u001b[39;00m \u001b[38;5;28mself\u001b[39m\u001b[38;5;241m.\u001b[39merror_in_exec \u001b[38;5;129;01mis\u001b[39;00m \u001b[38;5;129;01mnot\u001b[39;00m \u001b[38;5;28;01mNone\u001b[39;00m:\n\u001b[1;32m--> 308\u001b[0m     \u001b[38;5;28;01mraise\u001b[39;00m \u001b[38;5;28mself\u001b[39m\u001b[38;5;241m.\u001b[39merror_in_exec\n",
      "    \u001b[1;31m[... skipping hidden 1 frame]\u001b[0m\n",
      "File \u001b[1;32m~\\AppData\\Local\\Temp\\ipykernel_10304\\4291075610.py:8\u001b[0m\n\u001b[0;32m      5\u001b[0m IMG_SHAPE \u001b[38;5;241m=\u001b[39m (\u001b[38;5;241m256\u001b[39m, \u001b[38;5;241m256\u001b[39m, \u001b[38;5;241m3\u001b[39m)  \u001b[38;5;66;03m# Input shape (height, width, channels)\u001b[39;00m\n\u001b[0;32m      7\u001b[0m \u001b[38;5;66;03m# Build and summarize the model\u001b[39;00m\n\u001b[1;32m----> 8\u001b[0m model \u001b[38;5;241m=\u001b[39m \u001b[43mbuild_model\u001b[49m(IMG_SHAPE, nb_classes)\n\u001b[0;32m      9\u001b[0m model\u001b[38;5;241m.\u001b[39msummary()\n",
      "\u001b[1;31mNameError\u001b[0m: name 'build_model' is not defined"
     ]
    }
   ],
   "source": [
    "# Import necessary libraries\n",
    "import tensorflow as tf\n",
    "import numpy as np\n",
    "import pandas as pd\n",
    "from PIL import Image\n",
    "import sys\n",
    "from tensorflow.keras.utils import to_categorical\n",
    "import functools\n",
    "import mitdeeplearning as mdl\n",
    "from tqdm import tqdm \n",
    "import matplotlib.pyplot as plt\n",
    "import os\n",
    "\n",
    "# Define the path and import your CNN model\n",
    "os.chdir(r\"C:\\Users\\janan\\OneDrive\\Desktop\\AI\\AI Project\\Final Project\\diabetic-retinopathy-detection\\models_build\")\n",
    "get_ipython().run_line_magic('run', 'cnn.ipynb')"
   ]
  },
  {
   "cell_type": "code",
   "execution_count": null,
   "metadata": {},
   "outputs": [],
   "source": [
    "# Class to load and preprocess training data\n",
    "class TrainingDatasetLoader(object):\n",
    "    def __init__(self,nb_classes):\n",
    "        print(\"Loading data into memory...\")\n",
    "        sys.stdout.flush()\n",
    "        labels = pd.read_csv(r\"C:\\Users\\janan\\OneDrive\\Desktop\\AI\\AI Project\\Final Project\\diabetic-retinopathy-detection\\preprocessing\\trainLabels_augmented.csv\")\n",
    "        self.y = np.array([1 if l >= 1 else 0 for l in labels['level']]) if (nb_classes == 2) else np.array([l for l in labels['level']])\n",
    "        self.y = to_categorical(self.y, nb_classes)\n",
    "        self.X_location = \"C:/Users/janan/OneDrive/Desktop/AI/AI Project/Final Project/diabetic-retinopathy-detection/preprocessing/train_resized/resized-256/\"\n",
    "        self.size = self.y.shape[0]\n",
    "        self.inds = np.random.permutation(np.arange(self.size))\n",
    "        split = int(0.8 * self.size)  # 80:20 split\n",
    "        self.X_train, self.X_val = self.inds[:split], self.inds[split:]\n",
    "        self.lst_imgs = np.array([l for l in labels['train_image_name']])\n",
    "        print(\"Done.\")\n",
    "\n",
    "    def get_train_size(self):\n",
    "        return self.X_train.shape[0]\n",
    "\n",
    "    def get_val_size(self):\n",
    "        return self.X_val.shape[0]\n",
    "\n",
    "    def get_train_steps_per_epoch(self, batch_size, factor=10):\n",
    "        return self.get_train_size() // factor // batch_size\n",
    "\n",
    "    def get_batch(self, n, src='t', return_inds=False):\n",
    "        choice = self.X_train if (src == 't') else self.X_val\n",
    "        selected_inds = np.random.choice(choice, size=n, replace=False)\n",
    "        sorted_inds = np.sort(selected_inds)\n",
    "        img_names = self.lst_imgs[sorted_inds]\n",
    "        label = self.y[sorted_inds]\n",
    "        img = np.array([np.array(Image.open(self.X_location + img)) for img in img_names]).astype(np.float32)\n",
    "        img /= 255.0\n",
    "        return (img, label, sorted_inds) if return_inds else (img, label)\n",
    "\n"
   ]
  },
  {
   "cell_type": "code",
   "execution_count": null,
   "metadata": {
    "id": "WM5cd9tONusw"
   },
   "outputs": [],
   "source": [
    "# Initialize the loader with number of classes\n",
    "nb_classes = 2\n",
    "loader = TrainingDatasetLoader(nb_classes)\n",
    "print('Training Size: ' + str(loader.get_train_size()) + ' images')\n",
    "print('Validation Size: ' + str(loader.get_val_size()) + ' images')\n",
    "\n"
   ]
  },
  {
   "cell_type": "code",
   "execution_count": null,
   "metadata": {},
   "outputs": [],
   "source": [
    "# Define input shape\n",
    "IMG_SHAPE = (256, 256, 3)\n",
    "model = build_cnn(IMG_SHAPE, nb_classes)\n",
    "\n"
   ]
  },
  {
   "cell_type": "code",
   "execution_count": null,
   "metadata": {},
   "outputs": [],
   "source": [
    "# Metrics for evaluation\n",
    "from sklearn.metrics import classification_report, confusion_matrix, roc_auc_score, precision_recall_fscore_support\n",
    "\n",
    "train_acc_results = []\n",
    "val_acc_results = []\n",
    "train_loss_results = []\n",
    "val_loss_results = []\n",
    "\n"
   ]
  },
  {
   "cell_type": "code",
   "execution_count": null,
   "metadata": {},
   "outputs": [],
   "source": [
    "# Training hyperparameters\n",
    "batch_size = 128\n",
    "nb_epochs = 100\n",
    "learning_rate = 0.001\n",
    "validation_steps_per_epoch = 100\n",
    "\n",
    "optimizer = tf.keras.optimizers.Adam(learning_rate)\n",
    "loss_fn = tf.keras.losses.BinaryCrossentropy()\n",
    "\n"
   ]
  },
  {
   "cell_type": "code",
   "execution_count": null,
   "metadata": {},
   "outputs": [],
   "source": [
    "@tf.function\n",
    "def train_step(x, y):\n",
    "    with tf.GradientTape() as tape:\n",
    "        logits = model(x, training=True)\n",
    "        loss = loss_fn(y_true=y, y_pred=logits)\n",
    "    grads = tape.gradient(loss, model.trainable_variables)\n",
    "    optimizer.apply_gradients(zip(grads, model.trainable_variables))\n",
    "    return logits, loss\n",
    "\n"
   ]
  },
  {
   "cell_type": "code",
   "execution_count": null,
   "metadata": {},
   "outputs": [],
   "source": [
    "@tf.function\n",
    "def test_step(x, y):\n",
    "    val_logits = model(x, training=False)\n",
    "    return val_logits\n",
    "\n"
   ]
  },
  {
   "cell_type": "code",
   "execution_count": null,
   "metadata": {},
   "outputs": [],
   "source": [
    "for epoch in range(nb_epochs):\n",
    "    y_true_train, y_pred_train = [], []\n",
    "    y_true_val, y_pred_val = [], []\n",
    "\n",
    "    # Training loop\n",
    "    for _ in tqdm(range(loader.get_train_steps_per_epoch(batch_size, factor=20))):\n",
    "        x, y = loader.get_batch(batch_size)\n",
    "        logits, loss = train_step(x, y)\n",
    "        train_loss_results.append(loss.numpy())\n",
    "        y_true_train.extend(np.argmax(y, axis=1))\n",
    "        y_pred_train.extend(np.argmax(logits.numpy(), axis=1))\n",
    "\n",
    "    # Validation loop\n",
    "    for _ in range(validation_steps_per_epoch):\n",
    "        x, y = loader.get_batch(batch_size, 'v')\n",
    "        val_logits = test_step(x, y)\n",
    "        y_true_val.extend(np.argmax(y, axis=1))\n",
    "        y_pred_val.extend(np.argmax(val_logits.numpy(), axis=1))\n",
    "\n",
    "    # Calculate and log metrics for training\n",
    "    report_train = classification_report(y_true_train, y_pred_train, output_dict=True)\n",
    "    conf_matrix_train = confusion_matrix(y_true_train, y_pred_train)\n",
    "    roc_auc_train = roc_auc_score(y_true_train, y_pred_train)\n",
    "    precision_train, recall_train, f1_train, _ = precision_recall_fscore_support(y_true_train, y_pred_train, average='binary')\n",
    "\n",
    "    train_acc_results.append(report_train['accuracy'])\n",
    "\n",
    "    # Calculate and log metrics for validation\n",
    "    report_val = classification_report(y_true_val, y_pred_val, output_dict=True)\n",
    "    conf_matrix_val = confusion_matrix(y_true_val, y_pred_val)\n",
    "    roc_auc_val = roc_auc_score(y_true_val, y_pred_val)\n",
    "    precision_val, recall_val, f1_val, _ = precision_recall_fscore_support(y_true_val, y_pred_val, average='binary')\n",
    "\n",
    "    val_acc_results.append(report_val['accuracy'])\n",
    "\n",
    "    print(f\"Epoch {epoch + 1}/{nb_epochs}\")\n",
    "    print(f\"Training Metrics: Accuracy={report_train['accuracy']:.2f}, Precision={precision_train:.2f}, Recall={recall_train:.2f}, \"\n",
    "          f\"F1 Score={f1_train:.2f}, AUC={roc_auc_train:.2f}\")\n",
    "    print(f\"Validation Metrics: Accuracy={report_val['accuracy']:.2f}, Precision={precision_val:.2f}, Recall={recall_val:.2f}, \"\n",
    "          f\"F1 Score={f1_val:.2f}, AUC={roc_auc_val:.2f}\")\n",
    "\n"
   ]
  },
  {
   "cell_type": "code",
   "execution_count": null,
   "metadata": {},
   "outputs": [],
   "source": [
    "# Final averaged metrics after training\n",
    "final_train_acc = np.mean(train_acc_results)\n",
    "final_val_acc = np.mean(val_acc_results)\n",
    "final_train_loss = np.mean(train_loss_results)\n",
    "final_val_loss = np.mean(val_loss_results)\n",
    "\n",
    "# Compute final metrics\n",
    "final_train_precision, final_train_recall, final_train_f1, _ = precision_recall_fscore_support(y_true_train, y_pred_train, average='binary')\n",
    "final_val_precision, final_val_recall, final_val_f1, _ = precision_recall_fscore_support(y_true_val, y_pred_val, average='binary')\n",
    "final_train_auc = roc_auc_score(y_true_train, y_pred_train)\n",
    "final_val_auc = roc_auc_score(y_true_val, y_pred_val)\n",
    "\n",
    "# Print final results\n",
    "print(\"\\nFinal Metrics After Training:\")\n",
    "print(f\"Final Training Accuracy: {final_train_acc:.4f}\")\n",
    "print(f\"Final Validation Accuracy: {final_val_acc:.4f}\")\n",
    "print(f\"Final Training Loss: {final_train_loss:.4f}\")\n",
    "print(f\"Final Validation Loss: {final_val_loss:.4f}\")\n",
    "print(f\"Final Training Precision: {final_train_precision:.4f}\")\n",
    "print(f\"Final Validation Precision: {final_val_precision:.4f}\")\n",
    "print(f\"Final Training Recall: {final_train_recall:.4f}\")\n",
    "print(f\"Final Validation Recall: {final_val_recall:.4f}\")\n",
    "print(f\"Final Training F1 Score: {final_train_f1:.4f}\")\n",
    "print(f\"Final Validation F1 Score: {final_val_f1:.4f}\")\n",
    "print(f\"Final Training AUC: {final_train_auc:.4f}\")\n",
    "print(f\"Final Validation AUC: {final_val_auc:.4f}\")\n",
    "\n",
    "# Plot metrics\n",
    "fig, ax = plt.subplots(1, 2, figsize=(12, 6))\n",
    "ax[0].plot(train_acc_results, label='Training Accuracy')\n",
    "ax[0].plot(val_acc_results, label='Validation Accuracy')\n",
    "ax[0].legend()\n",
    "ax[0].set_title(\"Accuracy\")\n",
    "\n",
    "ax[1].plot(train_loss_results, label='Training Loss')\n",
    "ax[1].plot(val_loss_results, label='Validation Loss')\n",
    "ax[1].legend()\n",
    "ax[1].set_title(\"Loss\")\n",
    "\n",
    "plt.show()\n"
   ]
  }
 ],
 "metadata": {
  "accelerator": "GPU",
  "colab": {
   "collapsed_sections": [],
   "name": "standard_cnn.ipynb",
   "provenance": []
  },
  "kernelspec": {
   "display_name": "Python 3",
   "name": "python3"
  },
  "language_info": {
   "codemirror_mode": {
    "name": "ipython",
    "version": 3
   },
   "file_extension": ".py",
   "mimetype": "text/x-python",
   "name": "python",
   "nbconvert_exporter": "python",
   "pygments_lexer": "ipython3",
   "version": "3.12.6"
  }
 },
 "nbformat": 4,
 "nbformat_minor": 0
}
