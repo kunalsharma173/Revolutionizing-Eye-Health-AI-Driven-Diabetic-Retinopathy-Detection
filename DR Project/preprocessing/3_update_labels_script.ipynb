{
 "cells": [
  {
   "cell_type": "code",
   "execution_count": null,
   "metadata": {},
   "outputs": [],
   "source": [
    "import os\n",
    "import pandas as pd\n",
    "\n",
    "def get_image_list(image_dir):\n",
    "    \"\"\"\n",
    "    Reads all image files from the specified directory into a list.\n",
    "    \n",
    "    Parameters:\n",
    "    image_dir (str): Path to the directory containing image files.\n",
    "    \n",
    "    Returns:\n",
    "    list: List of image filenames (excluding hidden files like .DS_Store).\n",
    "    \"\"\"\n",
    "    return [filename for filename in os.listdir(image_dir) if not filename.startswith('.')]\n",
    "\n",
    "if __name__ == '__main__':\n",
    "    # Load the train labels CSV\n",
    "    labels_file_path = r\"C:\\Users\\janan\\OneDrive\\Desktop\\AI\\AI Project\\Final Project\\diabetic-retinopathy-detection\\trainLabels_original.csv\"\n",
    "    train_labels = pd.read_csv(labels_file_path)\n",
    "    \n",
    "    # Get the list of image files in the resized image directory\n",
    "    resized_image_dir = './train_resized/resized-256/'\n",
    "    image_list = get_image_list(resized_image_dir)\n",
    "    \n",
    "    # Add \".jpeg\" suffix to image names in the train labels DataFrame\n",
    "    train_labels['image'] = train_labels['image'] + '.jpeg'\n",
    "    \n",
    "    # Create a new DataFrame from the image list\n",
    "    augmented_labels = pd.DataFrame({'image': image_list})\n",
    "    \n",
    "    # Create a new column by removing augmentation suffixes from the image filenames\n",
    "    augmented_labels['original_image'] = augmented_labels['image'].apply(\n",
    "        lambda x: '_'.join(x.split('_')[:2]).rstrip('.jpeg') + '.jpeg'\n",
    "    )\n",
    "    \n",
    "    # Rename columns for clarity\n",
    "    augmented_labels.columns = ['train_image_name', 'image']\n",
    "    \n",
    "    # Merge the original train labels with the augmented image data\n",
    "    merged_labels = pd.merge(train_labels, augmented_labels, how='outer', on='image')\n",
    "    \n",
    "    # Drop rows with missing values (i.e., unmatched images)\n",
    "    merged_labels = merged_labels.dropna()\n",
    "    \n",
    "    # Print the shape of the final DataFrame\n",
    "    print(f\"Final merged dataset shape: {merged_labels.shape}\")\n",
    "    \n",
    "    # Write the merged DataFrame to a new CSV file\n",
    "    output_csv_path = './trainLabels_augmented.csv'\n",
    "    print(\"Writing to CSV...\")\n",
    "    merged_labels.to_csv(output_csv_path, index=False, header=True)\n",
    "    print(f\"CSV saved at {output_csv_path}\")\n"
   ]
  }
 ],
 "metadata": {
  "kernelspec": {
   "display_name": "Python 3",
   "language": "python",
   "name": "python3"
  },
  "language_info": {
   "codemirror_mode": {
    "name": "ipython",
    "version": 3
   },
   "file_extension": ".py",
   "mimetype": "text/x-python",
   "name": "python",
   "nbconvert_exporter": "python",
   "pygments_lexer": "ipython3",
   "version": "3.12.6"
  }
 },
 "nbformat": 4,
 "nbformat_minor": 4
}
